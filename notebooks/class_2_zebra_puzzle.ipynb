{
 "cells": [
  {
   "cell_type": "code",
   "execution_count": 1,
   "metadata": {},
   "outputs": [],
   "source": [
    "import itertools"
   ]
  },
  {
   "cell_type": "code",
   "execution_count": 5,
   "metadata": {},
   "outputs": [],
   "source": [
    "def imright(h1, h2):\n",
    "    return h1 - h2 == 1\n",
    "\n",
    "def nextto(h1, h2):\n",
    "    return abs(h1-h2) == 1\n",
    "\n",
    "def zebra_puzzle():\n",
    "    houses = first, _, middle, _, _ = [1, 2, 3, 4, 5]\n",
    "    orderings = list(itertools.permutations(houses))\n",
    "    return next((WATER, ZEBRA)\n",
    "             for (red, green, ivory, yellow, blue) in orderings\n",
    "             for (England, Spain, Ukraine, Japan, Norway) in orderings\n",
    "             for(dog, smails, fox, horse, ZEBRA) in orderings\n",
    "             for (coffee, tea, milk, oj, WATER) in oredrings\n",
    "             for (OG, K, CH, LS, P) in orderings\n",
    "             if England is red\n",
    "             if Spain is dog\n",
    "             if coffee is green\n",
    "             \n",
    "            \n",
    "\n",
    "\n"
   ]
  },
  {
   "cell_type": "code",
   "execution_count": 22,
   "metadata": {},
   "outputs": [],
   "source": [
    "dupa = (x**2 for x in [1,2,3])"
   ]
  },
  {
   "cell_type": "code",
   "execution_count": 20,
   "metadata": {},
   "outputs": [
    {
     "name": "stdout",
     "output_type": "stream",
     "text": [
      "1\n",
      "4\n",
      "9\n"
     ]
    }
   ],
   "source": [
    "for x in dupa:\n",
    "    print(x)"
   ]
  },
  {
   "cell_type": "code",
   "execution_count": 23,
   "metadata": {},
   "outputs": [
    {
     "data": {
      "text/plain": [
       "1"
      ]
     },
     "execution_count": 23,
     "metadata": {},
     "output_type": "execute_result"
    }
   ],
   "source": [
    "next(dupa)"
   ]
  },
  {
   "cell_type": "code",
   "execution_count": null,
   "metadata": {},
   "outputs": [],
   "source": []
  }
 ],
 "metadata": {
  "kernelspec": {
   "display_name": "Python 3",
   "language": "python",
   "name": "python3"
  },
  "language_info": {
   "codemirror_mode": {
    "name": "ipython",
    "version": 3
   },
   "file_extension": ".py",
   "mimetype": "text/x-python",
   "name": "python",
   "nbconvert_exporter": "python",
   "pygments_lexer": "ipython3",
   "version": "3.6.4"
  }
 },
 "nbformat": 4,
 "nbformat_minor": 2
}
